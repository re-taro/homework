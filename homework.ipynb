{
  "nbformat": 4,
  "nbformat_minor": 0,
  "metadata": {
    "colab": {
      "name": "bisekikadai.ipynb",
      "provenance": [],
      "collapsed_sections": [],
      "authorship_tag": "ABX9TyNAT3rVGaQwDnwJIaw7hts6",
      "include_colab_link": true
    },
    "kernelspec": {
      "name": "python3",
      "display_name": "Python 3"
    },
    "language_info": {
      "name": "python"
    }
  },
  "cells": [
    {
      "cell_type": "markdown",
      "metadata": {
        "id": "view-in-github",
        "colab_type": "text"
      },
      "source": [
        "<a href=\"https://colab.research.google.com/github/Re-taro/homework/blob/main/homework.ipynb\" target=\"_parent\"><img src=\"https://colab.research.google.com/assets/colab-badge.svg\" alt=\"Open In Colab\"/></a>"
      ]
    },
    {
      "cell_type": "code",
      "metadata": {
        "id": "FGQKETBXmP_H"
      },
      "source": [
        "import matplotlib\n",
        "import matplotlib.pyplot as plt\n",
        "import numpy as np\n",
        "from scipy.special import ellipe\n",
        "\n",
        "class Ellipse:\n",
        "    # 円周率の近似値をクラス変数として定義\n",
        "    pi = np.pi\n",
        "\n",
        "    # インスタンス変数の定義\n",
        "    def __init__(self, a, b, center=(0,0), n=129):\n",
        "        self.major_radius = a  # 長軸半径\n",
        "        self.minor_radius = b  # 短軸半径\n",
        "        self.center = center  # 中心点の座標\n",
        "        self.f_distance = np.sqrt(a**2 - b**2)  # 原点から焦点までの距離\n",
        "        \n",
        "        # 右側焦点の座標と左側焦点の座標\n",
        "        self.focus_1 = (self.center[0] + self.f_distance, self.center[1])\n",
        "        self.focus_2 = (self.focus_1[0] - 2 * self.f_distance, self.center[1])\n",
        "        \n",
        "        self.eccentricity = self.f_distance / a  # 離心率\n",
        "        self.area =self.pi * self.major_radius * self.minor_radius  # 面積\n",
        "        self.perimeter = 4 * ellipe(self.eccentricity)  # 周の長さ\n",
        "        \n",
        "        t = np.linspace(0, 2*np.pi, n)\n",
        "        self.x = self.center[0] + self.major_radius * np.cos(t)\n",
        "        self.y = self.center[1] + self.minor_radius * np.sin(t)\n",
        "\n",
        "    # 回転メソッド\n",
        "    # angleで回転角度(ラジアン)を指定\n",
        "    # r_axisで回転軸の座標を指定\n",
        "    def rotate(self, angle, r_axis):\n",
        "\n",
        "        # 回転行列\n",
        "        R = np.array([[np.cos(angle), -np.sin(angle)],\n",
        "                      [np.sin(angle),  np.cos(angle)]])\n",
        "\n",
        "        # 焦点の回転\n",
        "        p = np.array(r_axis)\n",
        "        self.focus_1 = np.dot(R, self.focus_1 - p) + p\n",
        "        self.focus_2 = np.dot(R, self.focus_2 - p) + p\n",
        "\n",
        "        # 楕円の回転\n",
        "        q = np.array([[r_axis[0]],[r_axis[1]]])\n",
        "        arr = np.vstack((self.x, self.y))\n",
        "        arr_2 = np.dot(R, arr - q) + q\n",
        "        self.x = arr_2[0]\n",
        "        self.y = arr_2[1]\n",
        "\n",
        "    # データ一覧表示メソッド\n",
        "    def show_data(self):\n",
        "        print(\" 長軸半径　{}\\n\".format(self.major_radius),\n",
        "              \"短軸半径　{}\\n\".format(self.minor_radius),\n",
        "              \"中心点　{}\\n\".format(self.center),\n",
        "              \"第1焦点　{}\\n\".format(self.focus_1),\n",
        "              \"第2焦点　{}\\n\".format(self.focus_2),\n",
        "              \"離心率　{}\\n\".format(self.eccentricity),\n",
        "              \"面積　{}\\n\".format(self.area),\n",
        "              \"弧長　{}\\n\".format(self.perimeter))\n",
        "\n",
        "    # 楕円の描画メソッド\n",
        "    # oval_colorで楕円の線の色を指定\n",
        "    # display_focusをTrueに設定すると焦点を表示\n",
        "    # display_centerをTrueに設定すると中心点を表示\n",
        "    def draw(self, plt, n=129, oval_color=\"#8A6D99\"):\n",
        "\n",
        "        plt.plot(self.x, self.y, color=oval_color, lw=3)\n"
      ],
      "execution_count": null,
      "outputs": []
    },
    {
      "cell_type": "code",
      "metadata": {
        "colab": {
          "base_uri": "https://localhost:8080/",
          "height": 337
        },
        "id": "aUAnFV5TbMIj",
        "outputId": "fb80773e-3074-4482-c47b-e96f1eda9a99"
      },
      "source": [
        "import matplotlib\n",
        "import matplotlib.pyplot as plt\n",
        "import numpy as np\n",
        "from scipy.special import ellipe\n",
        "\n",
        "ax = plt.axes(label='xxx')\n",
        "ax.set_aspect('equal')\n",
        "\n",
        "plt.axis([0, 60, 0, 60])\n",
        "\n",
        "theta = np.linspace(0, 2*np.pi, 129)\n",
        "\n",
        "x1 = 30 + 3 * np.cos(theta)\n",
        "y1 = 7 + 3 * np.sin(theta)\n",
        "plt.plot(x1, y1, color=\"#8A6D99\", lw=3)\n",
        "\n",
        "x2 = 30 + 3 * np.cos(theta)\n",
        "y2 = 53 + 3 * np.sin(theta)\n",
        "plt.plot(x2, y2, color=\"#8A6D99\", lw=3)\n",
        "\n",
        "x3 = 7 + 3 * np.cos(theta)\n",
        "y3 = 30 + 3 * np.sin(theta)\n",
        "plt.plot(x3, y3, color=\"#8A6D99\", lw=3)\n",
        "\n",
        "x4 = 53 + 3 * np.cos(theta)\n",
        "y4 = 30 + 3 * np.sin(theta)\n",
        "plt.plot(x4, y4, color=\"#8A6D99\", lw=3)\n",
        "\n",
        "x5 = 13.7365440327094 + 3 * np.cos(theta)\n",
        "y5 = 13.7365440327094 + 3 * np.sin(theta)\n",
        "plt.plot(x5, y5, color=\"#8A6D99\", lw=3)\n",
        "\n",
        "x6 = 46.2634559693265 + 3 * np.cos(theta)\n",
        "y6 = 46.2634559693265 + 3 * np.sin(theta)\n",
        "plt.plot(x6, y6, color=\"#8A6D99\", lw=3)\n",
        "\n",
        "x7 = 13.7365440327094 + 3 * np.cos(theta)\n",
        "y7 = 46.2634559693265 + 3 * np.sin(theta)\n",
        "plt.plot(x7, y7, color=\"#8A6D99\", lw=3)\n",
        "\n",
        "x8 = 46.2634559693265 + 3 * np.cos(theta)\n",
        "y8 = 13.7365440327094 + 3 * np.sin(theta)\n",
        "plt.plot(x8, y8, color=\"#8A6D99\", lw=3)\n",
        "\n",
        "oval1 = Ellipse(20, np.sqrt(3), center=(30, 30))\n",
        "oval1.draw(plt)\n",
        "\n",
        "oval2 = Ellipse(np.sqrt(3), 20, center=(30, 30))\n",
        "oval2.draw(plt)\n",
        "\n",
        "oval3 = Ellipse(20, np.sqrt(3), center=(30, 30))\n",
        "oval3.rotate(np.pi/4, (30, 30))\n",
        "oval3.draw(plt)\n",
        "\n",
        "oval4 = Ellipse(np.sqrt(3), 20, center=(30, 30))\n",
        "oval4.rotate(np.pi/4, (30, 30))\n",
        "oval4.draw(plt)\n",
        "\n",
        "plt.show()\n",
        "\n",
        "#plt.savefig(\"plot.png\", dpi=100, bbox_inches='tight')"
      ],
      "execution_count": null,
      "outputs": [
        {
          "output_type": "stream",
          "text": [
            "/usr/local/lib/python3.7/dist-packages/ipykernel_launcher.py:14: RuntimeWarning: invalid value encountered in sqrt\n",
            "  \n",
            "/usr/local/lib/python3.7/dist-packages/ipykernel_launcher.py:14: RuntimeWarning: invalid value encountered in sqrt\n",
            "  \n"
          ],
          "name": "stderr"
        },
        {
          "output_type": "display_data",
          "data": {
            "image/png": "[encoded data removed]",
            "text/plain": [
              "<Figure size 432x288 with 1 Axes>"
            ]
          },
          "metadata": {
            "needs_background": "light"
          }
        }
      ]
    }
  ]
}